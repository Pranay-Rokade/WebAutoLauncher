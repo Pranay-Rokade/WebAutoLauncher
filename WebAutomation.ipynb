{
 "cells": [
  {
   "cell_type": "code",
   "execution_count": 1,
   "id": "63ae47c6",
   "metadata": {},
   "outputs": [],
   "source": [
    "import webbrowser as wb"
   ]
  },
  {
   "cell_type": "code",
   "execution_count": 11,
   "id": "381ff247",
   "metadata": {},
   "outputs": [],
   "source": [
    "def webauto():\n",
    "    chrome_path = r\"C:\\Program Files\\Google\\Chrome\\Application\\chrome.exe\"  # add path of your web browser\n",
    "    URLS = (\n",
    "        \"https://github.com/Pranay-Rokade\",\n",
    "        \"https://youtube.com\",\n",
    "        \"https://www.codechef.com/users/pranay_rokade\",\n",
    "        # Add more URLs if needed\n",
    "    )\n",
    "    # Register Chrome browser\n",
    "    wb.register('chrome', None, wb.BackgroundBrowser(chrome_path))\n",
    "\n",
    "    for url in URLS:\n",
    "        print(\"Opening: \" + url)\n",
    "        wb.get('chrome').open(url)"
   ]
  },
  {
   "cell_type": "code",
   "execution_count": 12,
   "id": "ab95353f",
   "metadata": {},
   "outputs": [
    {
     "name": "stdout",
     "output_type": "stream",
     "text": [
      "Opening: https://github.com/Pranay-Rokade\n",
      "Opening: https://youtube.com\n",
      "Opening: https://udemy.com\n"
     ]
    }
   ],
   "source": [
    "webauto()"
   ]
  }
 ],
 "metadata": {
  "kernelspec": {
   "display_name": "Python 3 (ipykernel)",
   "language": "python",
   "name": "python3"
  },
  "language_info": {
   "codemirror_mode": {
    "name": "ipython",
    "version": 3
   },
   "file_extension": ".py",
   "mimetype": "text/x-python",
   "name": "python",
   "nbconvert_exporter": "python",
   "pygments_lexer": "ipython3",
   "version": "3.11.7"
  }
 },
 "nbformat": 4,
 "nbformat_minor": 5
}
